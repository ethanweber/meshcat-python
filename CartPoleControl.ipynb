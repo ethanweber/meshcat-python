{
 "cells": [
  {
   "cell_type": "markdown",
   "metadata": {},
   "source": [
    "# MeshCat Python"
   ]
  },
  {
   "cell_type": "code",
   "execution_count": 1,
   "metadata": {},
   "outputs": [],
   "source": [
    "import numpy as np\n",
    "import os\n",
    "import time\n",
    "\n",
    "# CHANGE THIS DIRECTOR TO AVOID REBUILDING\n",
    "my_dir = '/Users/ethanweber/Documents/RobotLocomotionGroup/meshcat-python'\n",
    "os.chdir(my_dir+'/src')\n",
    "\n",
    "import meshcat\n",
    "import meshcat.geometry as g\n",
    "import meshcat.transformations as tf"
   ]
  },
  {
   "cell_type": "code",
   "execution_count": 2,
   "metadata": {},
   "outputs": [
    {
     "name": "stdout",
     "output_type": "stream",
     "text": [
      "You can open the visualizer by visiting the following URL:\n",
      "http://127.0.0.1:7000/static/\n"
     ]
    }
   ],
   "source": [
    "# Create a new visualizer\n",
    "vis = meshcat.Visualizer()"
   ]
  },
  {
   "cell_type": "markdown",
   "metadata": {},
   "source": [
    "By default, creating the `Visualizer` will start up a meshcat server for you in the background. The easiest way to open the visualizer is with its ``open`` method:"
   ]
  },
  {
   "cell_type": "code",
   "execution_count": 3,
   "metadata": {},
   "outputs": [],
   "source": [
    "# vis.open()"
   ]
  },
  {
   "cell_type": "markdown",
   "metadata": {},
   "source": [
    "If ``vis.open()`` does not work for you, you can also point your browser to the server's URL:"
   ]
  },
  {
   "cell_type": "code",
   "execution_count": 4,
   "metadata": {},
   "outputs": [
    {
     "data": {
      "text/plain": [
       "'http://127.0.0.1:7000/static/'"
      ]
     },
     "execution_count": 4,
     "metadata": {},
     "output_type": "execute_result"
    }
   ],
   "source": [
    "vis.url()"
   ]
  },
  {
   "cell_type": "code",
   "execution_count": 5,
   "metadata": {},
   "outputs": [
    {
     "data": {
      "text/html": [
       "\n",
       "<div style=\"height: 400px; width: 600px; overflow-x: auto; overflow-y: hidden; resize: both\">\n",
       "<iframe src=\"http://127.0.0.1:7000/static/\" style=\"width: 100%; height: 100%; border: none\"></iframe>\n",
       "</div>\n"
      ],
      "text/plain": [
       "<IPython.core.display.HTML object>"
      ]
     },
     "execution_count": 5,
     "metadata": {},
     "output_type": "execute_result"
    }
   ],
   "source": [
    "vis.jupyter_cell()"
   ]
  },
  {
   "cell_type": "markdown",
   "metadata": {},
   "source": [
    "## Cart-Pole Simluation"
   ]
  },
  {
   "cell_type": "code",
   "execution_count": 227,
   "metadata": {},
   "outputs": [],
   "source": [
    "cart = vis[\"cart\"]\n",
    "pivot = cart[\"pivot\"]\n",
    "pole = pivot[\"pole\"]"
   ]
  },
  {
   "cell_type": "code",
   "execution_count": 283,
   "metadata": {},
   "outputs": [],
   "source": [
    "# specify starting config parameters\n",
    "cart_dim = [0.5, 0.3, 0.2]\n",
    "pol_dim = [1.0, 0.05, 0.05]\n",
    "theta = np.pi -.3 # vertical\n",
    "x_pos = 0\n",
    "x_vel = 0\n",
    "x_acc = 0\n",
    "theta_vel = 0\n",
    "theta_acc = 0"
   ]
  },
  {
   "cell_type": "code",
   "execution_count": 284,
   "metadata": {},
   "outputs": [],
   "source": [
    "# draw initial positions\n",
    "cart.set_object(g.Box(cart_dim))\n",
    "pole.set_object(g.Box(pol_dim))\n",
    "# attach pole to body\n",
    "pole.set_transform(tf.translation_matrix([cart_dim[0], 0, 0]))\n",
    "# set the angle of the pole\n",
    "pivot.set_transform(tf.rotation_matrix(-theta + np.pi/2.0, [0, 1, 0]))\n",
    "# draw the cart x position\n",
    "cart.set_transform(tf.translation_matrix([x_pos, 0, 0]))"
   ]
  },
  {
   "cell_type": "code",
   "execution_count": 285,
   "metadata": {},
   "outputs": [],
   "source": [
    "# specify parameters of the cart\n",
    "mp = .5 # 10 kg for pole mass\n",
    "mc = .2 # mass of the pole\n",
    "gr = 9.81 # m / s^2 gravity\n",
    "fric_b = 0.1 # friction constant b (added to equations)\n",
    "l = pol_dim[0] # in meters for length\n",
    "f = 0 # force applied on ground"
   ]
  },
  {
   "cell_type": "code",
   "execution_count": 286,
   "metadata": {},
   "outputs": [],
   "source": [
    "# set the PID control\n",
    "setpoint = np.pi\n",
    "error = 0 # just the error\n",
    "error_dot = 0 # change in error\n",
    "error_int = 0 # for integration\n",
    "\n",
    "kp = 100.0\n",
    "ki = 0.0\n",
    "kd = 1000.0\n"
   ]
  },
  {
   "cell_type": "code",
   "execution_count": 287,
   "metadata": {},
   "outputs": [],
   "source": [
    "def get_x_acc(f, x_vel, mp, mc, gr, theta, theta_vel, l):\n",
    "    first = (1.0/(mc+mp*(np.sin(theta)**2)))\n",
    "    second = ((f+fric_b*x_vel)+mp*np.sin(theta)*(l*theta_vel**2+gr*np.cos(theta)))\n",
    "    return first*second\n",
    "def get_theta_acc(f, x_vel, mp, mc, gr, theta, theta_vel, l):\n",
    "    first = (1.0/(l*(mc+mp*(np.sin(theta)**2))))\n",
    "    second = -(f+fric_b*x_vel)*np.cos(theta)-mp*l*theta_vel**2*np.cos(theta)*np.sin(theta)-(mc+mp)*gr*np.sin(theta)\n",
    "    return first*second"
   ]
  },
  {
   "cell_type": "code",
   "execution_count": 288,
   "metadata": {},
   "outputs": [],
   "source": [
    "sec = 10 # seconds\n",
    "steps_per_sec = 1000 # discrete steps in a second\n",
    "num_steps = sec*steps_per_sec # total number of steps\n",
    "sec_per_step = sec/num_steps # number of seconds per step\n",
    "for t in np.linspace(0,sec,num_steps):\n",
    "    \n",
    "    # set the error values\n",
    "    current_error = setpoint - theta\n",
    "    error_dot = current_error - error\n",
    "    error_int += current_error\n",
    "    error = current_error\n",
    "    \n",
    "    u = kp*(error) + kd*error_dot + ki*error_int\n",
    "    \n",
    "    \n",
    "    # set the force using the control law\n",
    "#     u = (mp+mc)*x_acc-fric_b*x_vel-mp*l*theta_acc\n",
    "    f = u\n",
    "    \n",
    "    # update x values\n",
    "    x_acc = get_x_acc(f, x_vel, mp, mc, gr, theta, theta_vel, l)\n",
    "    x_vel += x_acc*sec_per_step\n",
    "    x_pos += x_vel*sec_per_step\n",
    "    \n",
    "    # update theta values\n",
    "    theta_acc = get_theta_acc(f, x_vel, mp, mc, gr, theta, theta_vel, l)\n",
    "    theta_vel += theta_acc*sec_per_step\n",
    "    theta += theta_vel*sec_per_step\n",
    "    theta = theta%(2*np.pi)\n",
    "    \n",
    "    cart.set_transform(tf.translation_matrix([x_pos, 0, 0]))\n",
    "    pivot.set_transform(tf.rotation_matrix(-theta + np.pi/2.0, [0, 1, 0]))\n",
    "    time.sleep(sec_per_step)"
   ]
  },
  {
   "cell_type": "code",
   "execution_count": null,
   "metadata": {},
   "outputs": [],
   "source": []
  }
 ],
 "metadata": {
  "kernelspec": {
   "display_name": "Python 3",
   "language": "python",
   "name": "python3"
  },
  "language_info": {
   "codemirror_mode": {
    "name": "ipython",
    "version": 3
   },
   "file_extension": ".py",
   "mimetype": "text/x-python",
   "name": "python",
   "nbconvert_exporter": "python",
   "pygments_lexer": "ipython3",
   "version": "3.6.4"
  }
 },
 "nbformat": 4,
 "nbformat_minor": 2
}
